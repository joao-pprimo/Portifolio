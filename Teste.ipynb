{
 "cells": [
  {
   "cell_type": "code",
   "execution_count": 1,
   "id": "463aee62",
   "metadata": {},
   "outputs": [
    {
     "name": "stdout",
     "output_type": "stream",
     "text": [
      "Olá Mundo!\n"
     ]
    }
   ],
   "source": [
    "print ('Olá Mundo!')"
   ]
  },
  {
   "cell_type": "markdown",
   "id": "55555605",
   "metadata": {},
   "source": [
    "Gere código Python que crie uma lista com os números entre 1 e 100 e então imprima os números pares, mas somente se o número for divisível por 4."
   ]
  },
  {
   "cell_type": "code",
   "execution_count": 4,
   "id": "c1258235",
   "metadata": {},
   "outputs": [],
   "source": [
    "# Criar uma lista com números de 1 a 100\n",
    "numeros = list(range(1, 101))"
   ]
  },
  {
   "cell_type": "code",
   "execution_count": 5,
   "id": "633d0839",
   "metadata": {},
   "outputs": [
    {
     "data": {
      "text/plain": [
       "list"
      ]
     },
     "execution_count": 5,
     "metadata": {},
     "output_type": "execute_result"
    }
   ],
   "source": [
    "type(numeros)"
   ]
  },
  {
   "cell_type": "code",
   "execution_count": 14,
   "id": "d31d8be9",
   "metadata": {},
   "outputs": [
    {
     "name": "stdout",
     "output_type": "stream",
     "text": [
      "Números pares divisíveis por 4 entre 1 e 100:\n",
      "[4, 8, 12, 16, 20, 24, 28, 32, 36, 40, 44, 48, 52, 56, 60, 64, 68, 72, 76, 80, 84, 88, 92, 96, 100]\n"
     ]
    }
   ],
   "source": [
    "\n",
    "# Filtrar os números pares que são divisíveis por 4\n",
    "numeros_pares_divisiveis_por_4 = [numero for numero in numeros if numero % 2 == 0 and numero % 4 == 0]\n",
    "\n",
    "# Imprimir os números resultantes\n",
    "print(\"Números pares divisíveis por 4 entre 1 e 100:\")\n",
    "print(numeros_pares_divisiveis_por_4)\n"
   ]
  },
  {
   "cell_type": "markdown",
   "id": "ca1ed074",
   "metadata": {},
   "source": [
    "Gere código Python que crie uma lista com os números entre 1 e 100 e então imprima os números pares, mas somente se o número for divisível por 4, usando list comprehension"
   ]
  },
  {
   "cell_type": "code",
   "execution_count": 15,
   "id": "5d908e65",
   "metadata": {
    "scrolled": true
   },
   "outputs": [
    {
     "name": "stdout",
     "output_type": "stream",
     "text": [
      "Números pares divisíveis por 4 entre 1 e 100:\n",
      "[4, 8, 12, 16, 20, 24, 28, 32, 36, 40, 44, 48, 52, 56, 60, 64, 68, 72, 76, 80, 84, 88, 92, 96, 100]\n"
     ]
    }
   ],
   "source": [
    "# Criar uma lista com números pares divisíveis por 4 entre 1 e 100 usando list comprehension\n",
    "numeros_pares_divisiveis_por_4 = [numero for numero in range(1, 101) if numero % 2 == 0 and numero % 4 == 0]\n",
    "\n",
    "# Imprimir os números resultantes\n",
    "print(\"Números pares divisíveis por 4 entre 1 e 100:\")\n",
    "print(numeros_pares_divisiveis_por_4)\n"
   ]
  },
  {
   "cell_type": "code",
   "execution_count": 18,
   "id": "4bb87f23",
   "metadata": {},
   "outputs": [
    {
     "data": {
      "text/plain": [
       "list"
      ]
     },
     "execution_count": 18,
     "metadata": {},
     "output_type": "execute_result"
    }
   ],
   "source": [
    "type(numeros_pares_divisiveis_por_4)"
   ]
  },
  {
   "cell_type": "markdown",
   "id": "2455eeac",
   "metadata": {},
   "source": [
    "# Fim"
   ]
  }
 ],
 "metadata": {
  "kernelspec": {
   "display_name": "Python 3 (ipykernel)",
   "language": "python",
   "name": "python3"
  },
  "language_info": {
   "codemirror_mode": {
    "name": "ipython",
    "version": 3
   },
   "file_extension": ".py",
   "mimetype": "text/x-python",
   "name": "python",
   "nbconvert_exporter": "python",
   "pygments_lexer": "ipython3",
   "version": "3.9.13"
  }
 },
 "nbformat": 4,
 "nbformat_minor": 5
}
